{
 "cells": [
  {
   "cell_type": "markdown",
   "metadata": {},
   "source": [
    "# 역상 이미지를 만들어서 확인 해보기\n",
    "\n",
    "- 역상 이미지를 통해 masking 데이터를 매치시키면 다른 부분이 있을까?\n",
    "- 그래서 만들어서 학습 시켜본다"
   ]
  },
  {
   "cell_type": "code",
   "execution_count": 2,
   "metadata": {},
   "outputs": [],
   "source": [
    "import os\n",
    "import numpy as np\n",
    "import cv2\n",
    "from tqdm import tqdm\n",
    "\n",
    "img_path = \"D:/data/도로장애물·표면 인지 영상(수도권)/Training/Images/CRACK/C_Frontback_D01/\"\n",
    "bws_path = \"D:/data/도로장애물·표면 인지 영상(수도권)/Training/Images/CRACK/C_Frontback_D01_bws/\"\n",
    "msk_path = \"D:/data/도로장애물·표면 인지 영상(수도권)/Training/Annotations/CRACK/C_Frontback_D01_mask/\"\n",
    "cur_path = os.getcwd()"
   ]
  },
  {
   "cell_type": "code",
   "execution_count": 9,
   "metadata": {},
   "outputs": [
    {
     "data": {
      "application/vnd.jupyter.widget-view+json": {
       "model_id": "e7cf3e0ca8d04e8fa82ae9df6c1b1576",
       "version_major": 2,
       "version_minor": 0
      },
      "text/plain": [
       "  0%|          | 0/10000 [00:00<?, ?it/s]"
      ]
     },
     "metadata": {},
     "output_type": "display_data"
    }
   ],
   "source": [
    "for src_img in tqdm(os.listdir(img_path)):\n",
    "    # print(src_img)\n",
    "    os.chdir(img_path)\n",
    "    raw = cv2.imread(src_img, cv2.IMREAD_COLOR)\n",
    "    src = cv2.cvtColor(raw, cv2.COLOR_BGR2RGB)\n",
    "    dst = cv2.bitwise_not(src)\n",
    "    \n",
    "    os.chdir(bws_path)\n",
    "    cv2.imwrite(src_img, dst)\n",
    "    # plt.imshow(dst, cmap=\"gray\")\n",
    "    # plt.show()\n",
    "    # break"
   ]
  }
 ],
 "metadata": {
  "interpreter": {
   "hash": "0446615344e4aa1473341d598d724cf1b585df313970ff46e1fcfce00a5ccfcf"
  },
  "kernelspec": {
   "display_name": "Python 3.8.8 64-bit ('dl_env': conda)",
   "language": "python",
   "name": "python3"
  },
  "language_info": {
   "codemirror_mode": {
    "name": "ipython",
    "version": 3
   },
   "file_extension": ".py",
   "mimetype": "text/x-python",
   "name": "python",
   "nbconvert_exporter": "python",
   "pygments_lexer": "ipython3",
   "version": "3.8.8"
  },
  "orig_nbformat": 4
 },
 "nbformat": 4,
 "nbformat_minor": 2
}
