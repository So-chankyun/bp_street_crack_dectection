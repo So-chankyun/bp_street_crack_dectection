{
 "cells": [
  {
   "cell_type": "markdown",
   "metadata": {},
   "source": [
    "# IEEE_UNet 모델 만들어 보기\n",
    "---\n",
    "1. import module\n",
    "2. Device Check\n",
    "3. Data Load\n",
    "4. Data Check(1)\n",
    "5. Data Check(2)\n",
    "6. IEEE_UNet 모델 설계\n",
    "7. Optimizer, Objective Function 설정\n",
    "8. Train 데이터 모델 성능 확인\n",
    "9. Valid 데이터 모델 성능 확인\n",
    "10. CNN 실행하면서 Train, Test의 Loss 및 Accuracy 확인"
   ]
  },
  {
   "cell_type": "markdown",
   "metadata": {},
   "source": [
    "# 1.import module"
   ]
  },
  {
   "cell_type": "code",
   "execution_count": 1,
   "metadata": {},
   "outputs": [],
   "source": [
    "import numpy as np\n",
    "import matplotlib.pyplot as plt\n",
    "\n",
    "import torch\n",
    "import torch.nn as nn\n",
    "import torch.nn.functional as F\n",
    "from torchvision import datasets, transforms"
   ]
  },
  {
   "cell_type": "markdown",
   "metadata": {},
   "source": [
    "# 2.Device Check"
   ]
  },
  {
   "cell_type": "code",
   "execution_count": 2,
   "metadata": {},
   "outputs": [
    {
     "name": "stdout",
     "output_type": "stream",
     "text": [
      "Pytorch Version: 1.10.1 \t Device: cuda\n"
     ]
    }
   ],
   "source": [
    "DEVICE = \"cuda\" if torch.cuda.is_available else \"cpu\"\n",
    "print(f\"Pytorch Version: {torch.__version__} \\t Device: {DEVICE}\")\n",
    "\n",
    "BATCH_SIZE = 1\n",
    "EPOCHS = 5\n",
    "\n",
    "img_path = \"D:/data/도로장애물·표면 인지 영상(수도권)/Training/Images/CRACK/C_Frontback_D01/\"\n",
    "ann_path = \"D:/data/도로장애물·표면 인지 영상(수도권)/Training/Annotations/CRACK/C_Frontback_D01/\""
   ]
  },
  {
   "cell_type": "code",
   "execution_count": 3,
   "metadata": {},
   "outputs": [],
   "source": [
    "import os\n",
    "from os.path import splitext\n",
    "from pathlib import Path\n",
    "\n",
    "test_x = Path(img_path)\n",
    "ids = [splitext(file)[0] for file in os.listdir(img_path) if not file.startswith('.')]"
   ]
  },
  {
   "cell_type": "markdown",
   "metadata": {},
   "source": [
    "## `pathlib.Path`\n",
    "---\n",
    "- 객체 지향 파일 시스템 경로\n",
    "- 다른 운영체제에서 동일하게 경로를 접근할 수 있음\n",
    "    > 참고 : [pathlib.Path에 대한 자세한 사항](https://docs.python.org/ko/3/library/pathlib.html)"
   ]
  },
  {
   "cell_type": "markdown",
   "metadata": {},
   "source": [
    "# 3.Data Load"
   ]
  },
  {
   "cell_type": "code",
   "execution_count": 4,
   "metadata": {},
   "outputs": [],
   "source": [
    "import logging\n",
    "import torch\n",
    "\n",
    "from PIL import Image\n",
    "from pathlib import Path\n",
    "from os import listdir\n",
    "from os.path import splitext\n",
    "from torch.utils.data import Dataset\n",
    "\n",
    "\n",
    "class BaseDataset(Dataset):\n",
    "    def __init__(self, img_path: str, ann_path: str, scale: float=1.0, ann_suffix: str= ''):\n",
    "        self.img_path = Path(img_path)\n",
    "        self.ann_path = Path(ann_path)\n",
    "        \n",
    "        assert 0 < scale <= 1, \"Scale은 0과 1 사잇값이어야 합니다.\"\n",
    "        self.scale = scale\n",
    "        self.ann_suffix = ann_suffix\n",
    "        \n",
    "        self.ids = [splitext(file)[0] for file in listdir(img_path) if not file.startswith('.')]\n",
    "        if not self.ids:\n",
    "            raise RuntimeError(f\"{img_path}\\n 위 경로를 찾을 수 없습니다.\")\n",
    "        logging.info(f\"Creating dataset with {len(self.ids)} examples\")\n",
    "        \n",
    "    def __len__(self):\n",
    "        return len(self.ids)\n",
    "    \n",
    "    @classmethod\n",
    "    def preprocess(cls, pil_img, scale, is_ann):\n",
    "        w, h = pil_img.size\n",
    "        trs_w, trs_h = int(scale*w), int(scale*h)\n",
    "        \n",
    "        assert trs_w>0 and trs_h>0, \"스케일이 너무 작습니다. 다시 조정해 주세요.\"\n",
    "        pil_img = pil_img.resize((trs_w, trs_h), resample=Image.NEAREST if is_ann else Image.BICUBIC)\n",
    "        \n",
    "        \"\"\"\n",
    "        여기서부터 이해가 안됨\n",
    "        \"\"\"\n",
    "        img_ndarray = np.asarray(pil_img)                   # 이미지 arr 생성\n",
    "        \n",
    "        if img_ndarray.ndim==2 and not is_ann:              # 이미지 arr 차원수==2 and \"ann\"이 아닐 때\n",
    "            img_ndarray = img_ndarray[np.newaxis, ...]      # 이미지 arr = 이미지 arr에서 np.newaxis부터의 arr\n",
    "            # --> 3차원으로 변환해 주는 것 같다 (np.newaxis는 차원을 변환할 때 사용됨)\n",
    "            \n",
    "        elif not is_ann:                                    # \"ann\"이 아닐 때\n",
    "            img_ndarray = img_ndarray.transpose((2, 0, 1))  # 3차원이니깐 0,1,2 -> 2,0,1 순서로 변환\n",
    "            # --> 정확히는 모르겠지만 (H,W,C) -> (C,H,W) 인 것 같기도,,? 나중에 정확히 확인\n",
    "            \n",
    "        if not is_ann:\n",
    "            img_ndarray = img_ndarray/255\n",
    "        \n",
    "        return img_ndarray\n",
    "    \n",
    "    @classmethod\n",
    "    def load(cls, filename):                # 데이터 로드  함수\n",
    "        ext = splitext(filename)[1]         # 확장자를 확인하는 라인\n",
    "        if ext in ['.npz', '.npy']:         # .npz, .npy로 끝나면 numpy로 받아옴\n",
    "            return Image.fromarray(np.load(filename))\n",
    "        elif ext in ['.pt', '.pth']:        # .pt, .pth로 끝나면 torch로 받아와서 numpy로 변환                         \n",
    "            return Image.fromarray(torch.load(filename).numpy())\n",
    "        else:\n",
    "            return Image.open(filename)     # 이외의 확장자는 그냥 가져옴\n",
    "\n",
    "    def __getitem__(self,idx):\n",
    "        name = self.ids[idx]\n",
    "        ann_file = list(self.ann_path.glob(name+self.ann_suffix+'.png'))\n",
    "        img_file = list(self.img_path.glob(name+\".png\"))\n",
    "        \n",
    "        assert len(ann_path)==1, f\"어노테이션이 없거나, 여러 개의 ID를 지녔습니다. {name}: {ann_file}\"\n",
    "        assert len(img_path)==1, f\"이미지가 없거나, 여러 개의 ID를 지녔습니다. {name}: {img_file}\"\n",
    "        \n",
    "        annot = self.load(ann_file[0])\n",
    "        img = self.load(img_file[0])\n",
    "        \n",
    "        assert img.size == annot.size, \\\n",
    "            '이미지와 어노테이션의 {name}은 반드시 같아야 합니다, 지금은 이미지 {img.size} 와 어노테이션 {annot.size}로 다릅니다.'\n",
    "            \n",
    "        img = self.preprocess(img, self.scale, is_ann=False)\n",
    "        annot = self.preprocess(annot, self.scale, is_ann=True)\n",
    "        \n",
    "        return {\n",
    "            \"image\" : torch.as_tensor(img.copy()).float().contiguous(),\n",
    "            \"annot\" : torch.as_tensor(annot.copy()).long().contiguous()\n",
    "        }\n",
    "        \n",
    "class CrackDataset(BaseDataset):\n",
    "    def __init__(self, img_path, ann_path, scale=1):\n",
    "        super().__init__(img_path, ann_path, scale, ann_suffix='_PLINE')\n",
    "\n",
    "\"\"\"\n",
    "#################################################\n",
    "Class 정의 후 데이터 로딩해서 확인해 볼 필요가 있음\n",
    "#################################################\n",
    "\"\"\"\n",
    "\n",
    "from torch.utils.data import DataLoader, random_split\n",
    "\n",
    "# 1. Create dataset\n",
    "dir_img = img_path\n",
    "dir_mask = ann_path\n",
    "img_scale = .5\n",
    "val_percent = .2\n",
    "\n",
    "\n",
    "try:\n",
    "    dataset = CrackDataset(dir_img, dir_mask, img_scale)\n",
    "except (AssertionError, RuntimeError):\n",
    "    dataset = BaseDataset(dir_img, dir_mask, img_scale)\n",
    "\n",
    "# 2. Split into train / validation partitions\n",
    "n_val = int(len(dataset) * val_percent)\n",
    "n_train = len(dataset) - n_val\n",
    "train_set, val_set = random_split(dataset, [n_train, n_val], generator=torch.Generator().manual_seed(0))\n",
    "\n",
    "# 3. Create data loaders\n",
    "loader_args = dict(batch_size=BATCH_SIZE, num_workers=4, pin_memory=True)\n",
    "train_loader = DataLoader(train_set, shuffle=True, **loader_args)\n",
    "val_loader = DataLoader(val_set, shuffle=False, drop_last=True, **loader_args)"
   ]
  },
  {
   "cell_type": "code",
   "execution_count": 8,
   "metadata": {},
   "outputs": [
    {
     "data": {
      "text/plain": [
       "<bound method DataLoader.__iter__ of <torch.utils.data.dataloader.DataLoader object at 0x000001DA161F1C70>>"
      ]
     },
     "execution_count": 8,
     "metadata": {},
     "output_type": "execute_result"
    }
   ],
   "source": []
  },
  {
   "cell_type": "markdown",
   "metadata": {},
   "source": [
    "**새로운 코드 라인**\n",
    "---\n",
    "- `pathlib.Path`\n",
    "- `os.path.splitext`\n",
    "- `os.listdir().startswith()`\n",
    "- `logging`\n",
    "- `assert`\n",
    "- `@classmethod`\n",
    "- `np.ndarray[np.newaxis, ...]`\n",
    "- `np.ndarray.transpose((a,b,c))`\n",
    "- `pathlib.Path.glob`"
   ]
  },
  {
   "cell_type": "markdown",
   "metadata": {},
   "source": [
    "# 4.Data Check(1)"
   ]
  },
  {
   "cell_type": "code",
   "execution_count": null,
   "metadata": {},
   "outputs": [],
   "source": [
    "for (X_train, y_train) in train_loader:\n",
    "    print(f\"X_train: {X_train.size()} \\t type: {X_train.type()}\")\n",
    "    print(f\"y_train: {y_train.size()} \\t type: {y_train.type()}\")\n",
    "    break"
   ]
  },
  {
   "cell_type": "markdown",
   "metadata": {},
   "source": [
    "# 5.Data Check(2)"
   ]
  },
  {
   "cell_type": "code",
   "execution_count": null,
   "metadata": {},
   "outputs": [],
   "source": [
    "pltSize=2\n",
    "plt.figure(figsize=(10*pltSize, pltSize))\n",
    "\n",
    "for i in range(10):\n",
    "    plt.subplot(1, 10, i+1)\n",
    "    plt.axis('off')\n",
    "    plt.imshow(np.transpose(X_train[i], (1,2,0)))\n",
    "    plt.title(f\"Class: {y_train[i].item()}\")"
   ]
  },
  {
   "cell_type": "markdown",
   "metadata": {},
   "source": [
    "# 6.CNN 모델 설계"
   ]
  },
  {
   "cell_type": "code",
   "execution_count": null,
   "metadata": {},
   "outputs": [],
   "source": [
    "class CNN(nn.Module):\n",
    "    def __init__(self):\n",
    "        super(CNN, self).__init__()\n",
    "        self.conv1 = nn.Conv2d(\n",
    "            in_channels = 3,\n",
    "            out_channels = 8,\n",
    "            kernel_size = 3,\n",
    "            padding = 1\n",
    "        )\n",
    "        self.conv2 = nn.Conv2d(\n",
    "            in_channels = 8,\n",
    "            out_channels = 16,\n",
    "            kernel_size = 3,\n",
    "            padding = 1\n",
    "        )\n",
    "        self.pool = nn.MaxPool2d(\n",
    "            kernel_size = 2,\n",
    "            stride = 2\n",
    "        )\n",
    "        self.fc1 = nn.Linear(8*8*16, 64)\n",
    "        self.fc2 = nn.Linear(64, 32)\n",
    "        self.fc3 = nn.Linear(32, 10)\n",
    "        \n",
    "    def forward(self, x):\n",
    "        # Convolution Layer & Pooling Layer\n",
    "        x = self.conv1(x)\n",
    "        x = F.relu(x)\n",
    "        x = self.pool(x)\n",
    "        x = self.conv2(x)\n",
    "        x = F.relu(x)\n",
    "        x = self.pool(x)\n",
    "        \n",
    "        # Fully Connected Layer\n",
    "        x = x.view(-1, 8*8*16)\n",
    "        x = self.fc1(x)\n",
    "        x = F.relu(x)\n",
    "        x = self.fc2(x)\n",
    "        x = F.relu(x)\n",
    "        x = self.fc3(x)\n",
    "        x = F.log_softmax(x, dim=1)\n",
    "        \n",
    "        return x\n",
    "        "
   ]
  },
  {
   "cell_type": "markdown",
   "metadata": {},
   "source": [
    "# 7.Optimizer, Objective Function 설정"
   ]
  },
  {
   "cell_type": "code",
   "execution_count": null,
   "metadata": {},
   "outputs": [],
   "source": [
    "model = CNN().to(DEVICE)\n",
    "optimizer = torch.optim.Adam(model.parameters(), lr=.001)\n",
    "criterion = nn.CrossEntropyLoss()\n",
    "print(model)"
   ]
  },
  {
   "cell_type": "markdown",
   "metadata": {},
   "source": [
    "# 8.Train Data 모델 성능 확인"
   ]
  },
  {
   "cell_type": "code",
   "execution_count": null,
   "metadata": {},
   "outputs": [],
   "source": [
    "def train(model, train_loader, optimizer, log_interval):\n",
    "    model.train\n",
    "    for batch_idx,(image, label) in enumerate(train_loader):\n",
    "        image = image.to(DEVICE)\n",
    "        label = label.to(DEVICE)\n",
    "        \n",
    "        optimizer.zero_grad()\n",
    "        output = model(image)\n",
    "        \n",
    "        loss = criterion(output, label)\n",
    "        loss.backward()\n",
    "        \n",
    "        optimizer.step()\n",
    "        \n",
    "        if batch_idx % log_interval == 0:\n",
    "            print(\"Train Epoch: {} [{}/{}({:.0f}%)]\\tTrain Loss: {:.6f}\".format(Epoch, batch_idx*len(image),\n",
    "                                                                                 len(train_loader.dataset), 100.*batch_idx/len(train_loader),\n",
    "                                                                                 loss.item()))"
   ]
  },
  {
   "cell_type": "markdown",
   "metadata": {},
   "source": [
    "# 9.Valid Data 모델 성능 확인"
   ]
  },
  {
   "cell_type": "code",
   "execution_count": null,
   "metadata": {},
   "outputs": [],
   "source": [
    "def evaluate(model, test_loader):\n",
    "    model.eval()\n",
    "    \n",
    "    test_loss=0\n",
    "    correct = 0\n",
    "    \n",
    "    with torch.no_grad():\n",
    "        for image, label in test_loader:\n",
    "            image = image.to(DEVICE)\n",
    "            label = label.to(DEVICE)\n",
    "            output = model(image)\n",
    "            \n",
    "            test_loss += criterion(output, label).item()\n",
    "            \n",
    "            prediction = output.max(1, keepdim=True)[1]\n",
    "            \n",
    "            correct += prediction.eq(label.view_as(prediction)).sum().item()\n",
    "    \n",
    "    test_loss /= len(test_loader.dataset)\n",
    "    \n",
    "    test_accuracy = 100. * correct / len(test_loader.dataset)\n",
    "    return test_loss, test_accuracy"
   ]
  },
  {
   "cell_type": "markdown",
   "metadata": {},
   "source": [
    "# 10.CNN 실행하면서 Train, Test의 Loss 및 Accuracy 확인"
   ]
  },
  {
   "cell_type": "code",
   "execution_count": null,
   "metadata": {},
   "outputs": [],
   "source": [
    "from tqdm.notebook import tqdm as n_tqdm\n",
    "from tqdm import tqdm as t_tqdm\n",
    "\n",
    "for Epoch in t_tqdm(range(1, EPOCHS+1)):\n",
    "    train(model, train_loader, optimizer, log_interval=200)\n",
    "    test_loss, test_accuracy = evaluate(model, test_loader)\n",
    "    print(\"\\n[EPOCH: {}], \\tTest Loss: {:.4f}, \\tTest Accuracy: {:.2f} % \\n\".\n",
    "    format(Epoch, test_loss, test_accuracy))"
   ]
  }
 ],
 "metadata": {
  "interpreter": {
   "hash": "0446615344e4aa1473341d598d724cf1b585df313970ff46e1fcfce00a5ccfcf"
  },
  "kernelspec": {
   "display_name": "Python 3.8.8 64-bit ('dl_env': conda)",
   "language": "python",
   "name": "python3"
  },
  "language_info": {
   "codemirror_mode": {
    "name": "ipython",
    "version": 3
   },
   "file_extension": ".py",
   "mimetype": "text/x-python",
   "name": "python",
   "nbconvert_exporter": "python",
   "pygments_lexer": "ipython3",
   "version": "3.8.8"
  },
  "orig_nbformat": 4
 },
 "nbformat": 4,
 "nbformat_minor": 2
}
