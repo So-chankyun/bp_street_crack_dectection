{
 "cells": [
  {
   "cell_type": "code",
   "execution_count": 2,
   "metadata": {},
   "outputs": [],
   "source": [
    "import os\n",
    "import numpy as np\n",
    "import json\n",
    "import cv2\n",
    "from tqdm.notebook import tqdm"
   ]
  },
  {
   "cell_type": "markdown",
   "metadata": {},
   "source": [
    "# Main Road Data 확인"
   ]
  },
  {
   "cell_type": "code",
   "execution_count": 3,
   "metadata": {},
   "outputs": [
    {
     "data": {
      "text/plain": [
       "['V1F_HY_9341_20210114_170155_N_CH0_Seoul_Sun_Mainroad_Day_54453.png',\n",
       " 'V1F_HY_9342_20210114_165322_E_CH1_Seoul_Sun_Mainroad_Day_16726.png',\n",
       " 'V1F_HY_9343_20210114_164821_E_CH1_Seoul_Sun_Mainroad_Day_26198.png',\n",
       " 'V1F_HY_9343_20210115_151928_E_CH1_Seoul_Sun_Mainroad_Day_17453.png',\n",
       " 'V1F_HY_9344_20160212_020303_N_CH1_Seoul_Sun_Mainroad_Day_94537.png']"
      ]
     },
     "execution_count": 3,
     "metadata": {},
     "output_type": "execute_result"
    }
   ],
   "source": [
    "data_path = \"D:/data/도로장애물·표면 인지 영상(수도권)/Training/!CHANGE/CRACK/\"\n",
    "all_annot = data_path.replace(\"!CHANGE\", \"Annotations\")\n",
    "all_image = data_path.replace(\"!CHANGE\", \"Images\")\n",
    "\n",
    "annot_path = all_annot+\"C_Mainroad_B01/\"\n",
    "image_path = all_image+\"C_Mainroad_B01/\"\n",
    "\n",
    "images = os.listdir(image_path)\n",
    "labels = os.listdir(annot_path)\n",
    "masks = list(map(lambda x: x.replace(\"_PLINE.json\",\".png\"),labels))\n",
    "masks[:5]"
   ]
  },
  {
   "cell_type": "code",
   "execution_count": 4,
   "metadata": {},
   "outputs": [
    {
     "data": {
      "text/plain": [
       "set()"
      ]
     },
     "execution_count": 4,
     "metadata": {},
     "output_type": "execute_result"
    }
   ],
   "source": [
    "set(images)-set(masks)"
   ]
  },
  {
   "cell_type": "markdown",
   "metadata": {},
   "source": [
    "데이터 자체에 오류는 없는 것으로 보임. 그러면 오류가 날 수 있느 부분은 다음과 같음\n",
    "- `.json`을 불러올 때 `ndarray`로 변환하는 부분\n",
    "- `.json`을 불러오고 `float` 데이터를 `int`로 변환하는 부분"
   ]
  },
  {
   "cell_type": "markdown",
   "metadata": {},
   "source": [
    "# json에서 polyline으로 변환 로직 확인"
   ]
  },
  {
   "cell_type": "code",
   "execution_count": 5,
   "metadata": {},
   "outputs": [
    {
     "data": {
      "application/vnd.jupyter.widget-view+json": {
       "model_id": "1f06cf1d88934b90a2397c12433d7a21",
       "version_major": 2,
       "version_minor": 0
      },
      "text/plain": [
       "  0%|          | 0/10000 [00:00<?, ?it/s]"
      ]
     },
     "metadata": {},
     "output_type": "display_data"
    },
    {
     "name": "stdout",
     "output_type": "stream",
     "text": [
      "D:/data/도로장애물·표면 인지 영상(수도권)/Training/Annotations/CRACK/C_Mainroad_B01/V2F_HY_0031_20201202_120432_N_CH0_Seoul_Sun_Mainroad_Day_98665_PLINE.json\n"
     ]
    },
    {
     "ename": "AssertionError",
     "evalue": "In Error",
     "output_type": "error",
     "traceback": [
      "\u001b[1;31m---------------------------------------------------------------------------\u001b[0m",
      "\u001b[1;31mTypeError\u001b[0m                                 Traceback (most recent call last)",
      "\u001b[1;32m~\\AppData\\Local\\Temp/ipykernel_11924/916379904.py\u001b[0m in \u001b[0;36m<module>\u001b[1;34m\u001b[0m\n\u001b[0;32m     22\u001b[0m         \u001b[1;32mtry\u001b[0m\u001b[1;33m:\u001b[0m\u001b[1;33m\u001b[0m\u001b[1;33m\u001b[0m\u001b[0m\n\u001b[1;32m---> 23\u001b[1;33m             \u001b[0mtemp_int\u001b[0m \u001b[1;33m=\u001b[0m \u001b[0mnp\u001b[0m\u001b[1;33m.\u001b[0m\u001b[0mapply_along_axis\u001b[0m\u001b[1;33m(\u001b[0m\u001b[0mnp\u001b[0m\u001b[1;33m.\u001b[0m\u001b[0mint32\u001b[0m\u001b[1;33m,\u001b[0m \u001b[0marr\u001b[0m\u001b[1;33m=\u001b[0m\u001b[0mtemp\u001b[0m\u001b[1;33m,\u001b[0m \u001b[0maxis\u001b[0m\u001b[1;33m=\u001b[0m\u001b[1;36m0\u001b[0m\u001b[1;33m)\u001b[0m\u001b[1;33m\u001b[0m\u001b[1;33m\u001b[0m\u001b[0m\n\u001b[0m\u001b[0;32m     24\u001b[0m         \u001b[1;32mexcept\u001b[0m\u001b[1;33m:\u001b[0m\u001b[1;33m\u001b[0m\u001b[1;33m\u001b[0m\u001b[0m\n",
      "\u001b[1;32m<__array_function__ internals>\u001b[0m in \u001b[0;36mapply_along_axis\u001b[1;34m(*args, **kwargs)\u001b[0m\n",
      "\u001b[1;32m~\\anaconda3\\envs\\dl_env\\lib\\site-packages\\numpy\\lib\\shape_base.py\u001b[0m in \u001b[0;36mapply_along_axis\u001b[1;34m(func1d, axis, arr, *args, **kwargs)\u001b[0m\n\u001b[0;32m    378\u001b[0m         ) from None\n\u001b[1;32m--> 379\u001b[1;33m     \u001b[0mres\u001b[0m \u001b[1;33m=\u001b[0m \u001b[0masanyarray\u001b[0m\u001b[1;33m(\u001b[0m\u001b[0mfunc1d\u001b[0m\u001b[1;33m(\u001b[0m\u001b[0minarr_view\u001b[0m\u001b[1;33m[\u001b[0m\u001b[0mind0\u001b[0m\u001b[1;33m]\u001b[0m\u001b[1;33m,\u001b[0m \u001b[1;33m*\u001b[0m\u001b[0margs\u001b[0m\u001b[1;33m,\u001b[0m \u001b[1;33m**\u001b[0m\u001b[0mkwargs\u001b[0m\u001b[1;33m)\u001b[0m\u001b[1;33m)\u001b[0m\u001b[1;33m\u001b[0m\u001b[1;33m\u001b[0m\u001b[0m\n\u001b[0m\u001b[0;32m    380\u001b[0m \u001b[1;33m\u001b[0m\u001b[0m\n",
      "\u001b[1;31mTypeError\u001b[0m: int() argument must be a string, a bytes-like object or a number, not 'NoneType'",
      "\nDuring handling of the above exception, another exception occurred:\n",
      "\u001b[1;31mAssertionError\u001b[0m                            Traceback (most recent call last)",
      "\u001b[1;32m~\\AppData\\Local\\Temp/ipykernel_11924/916379904.py\u001b[0m in \u001b[0;36m<module>\u001b[1;34m\u001b[0m\n\u001b[0;32m     24\u001b[0m         \u001b[1;32mexcept\u001b[0m\u001b[1;33m:\u001b[0m\u001b[1;33m\u001b[0m\u001b[1;33m\u001b[0m\u001b[0m\n\u001b[0;32m     25\u001b[0m             \u001b[0mprint\u001b[0m\u001b[1;33m(\u001b[0m\u001b[0mfilename\u001b[0m\u001b[1;33m)\u001b[0m\u001b[1;33m\u001b[0m\u001b[1;33m\u001b[0m\u001b[0m\n\u001b[1;32m---> 26\u001b[1;33m             \u001b[1;32massert\u001b[0m \u001b[1;36m0\u001b[0m\u001b[1;33m!=\u001b[0m\u001b[1;36m0\u001b[0m\u001b[1;33m,\u001b[0m \u001b[1;34mf\"In Error\"\u001b[0m\u001b[1;33m\u001b[0m\u001b[1;33m\u001b[0m\u001b[0m\n\u001b[0m\u001b[0;32m     27\u001b[0m         \u001b[0mtemp_re\u001b[0m \u001b[1;33m=\u001b[0m \u001b[0mtemp_int\u001b[0m\u001b[1;33m.\u001b[0m\u001b[0mreshape\u001b[0m\u001b[1;33m(\u001b[0m\u001b[1;33m-\u001b[0m\u001b[1;36m1\u001b[0m\u001b[1;33m,\u001b[0m \u001b[1;36m2\u001b[0m\u001b[1;33m)\u001b[0m\u001b[1;33m\u001b[0m\u001b[1;33m\u001b[0m\u001b[0m\n\u001b[0;32m     28\u001b[0m \u001b[1;33m\u001b[0m\u001b[0m\n",
      "\u001b[1;31mAssertionError\u001b[0m: In Error"
     ]
    }
   ],
   "source": [
    "from pathlib import Path\n",
    "ap_lst = []\n",
    "for f_name in tqdm(labels):\n",
    "    filename=annot_path+f_name\n",
    "    with open(filename,\"r\",encoding='utf8') as f:\n",
    "        contents = f.read()\n",
    "        json_data = json.loads(contents)\n",
    "\n",
    "    str_fname = str(filename)\n",
    "    img_pth = Path(str_fname.replace(\"Annotations\",\"Images\").replace(\"_PLINE.json\",\".png\"))            \n",
    "    load_img = np.array(Image.open(img_pth))    \n",
    "    lbl = np.zeros((load_img.shape[0], load_img.shape[1]), np.int32)\n",
    "\n",
    "    for idx in range(len(json_data[\"annotations\"])):\n",
    "        temp = np.array(json_data[\"annotations\"][idx][\"polyline\"]).reshape(-1)\n",
    "        \n",
    "        \"\"\"\n",
    "        문제가 발생하는 np.apply_along_axis 라인에서 예외 처리 실시\n",
    "        \n",
    "        오류가 발생하면 발생한 file의 이름을 확인\n",
    "        \"\"\"\n",
    "        try:\n",
    "            temp_int = np.apply_along_axis(np.int32, arr=temp, axis=0)\n",
    "        except:\n",
    "            print(filename)\n",
    "            assert 0!=0, f\"In Error\"\n",
    "        temp_re = temp_int.reshape(-1, 2)\n",
    "        \n",
    "        lbl = cv2.polylines(img=lbl,\n",
    "                    pts=[temp_re],\n",
    "                    isClosed=False,\n",
    "                    color=(255),\n",
    "                    thickness=5)\n",
    "    ap_lst.append(lbl)"
   ]
  },
  {
   "cell_type": "markdown",
   "metadata": {},
   "source": [
    "error 탐지 결과 `D:/data/도로장애물·표면 인지 영상(수도권)/Training/Annotations/CRACK/C_Mainroad_B01/V2F_HY_0031_20201202_120432_N_CH0_Seoul_Sun_Mainroad_Day_98665_PLINE.json` 해당 경로 데이터에서 문제가 발생한 것으로 보임. 확인을 해야겠지만, `cv2.polylines()`로 적용할 point가 없을 가능성이 높음"
   ]
  },
  {
   "cell_type": "markdown",
   "metadata": {},
   "source": [
    "# 오류가 발생한 file의 데이터 값 확인"
   ]
  },
  {
   "cell_type": "code",
   "execution_count": 6,
   "metadata": {},
   "outputs": [
    {
     "data": {
      "text/plain": [
       "[None,\n",
       " None,\n",
       " 247.1428571428571,\n",
       " 712.8571428571428,\n",
       " 244.76190476190476,\n",
       " 695.7142857142857]"
      ]
     },
     "execution_count": 6,
     "metadata": {},
     "output_type": "execute_result"
    }
   ],
   "source": [
    "err_file = \"D:/data/도로장애물·표면 인지 영상(수도권)/Training/Annotations/CRACK/C_Mainroad_B01/V2F_HY_0031_20201202_120432_N_CH0_Seoul_Sun_Mainroad_Day_98665_PLINE.json\"\n",
    "\n",
    "with open(err_file,\"r\",encoding='utf8') as f:\n",
    "    contents = f.read()\n",
    "    json_data = json.loads(contents)\n",
    "    \n",
    "json_data[\"annotations\"][0][\"polyline\"][0][:6]"
   ]
  },
  {
   "cell_type": "markdown",
   "metadata": {},
   "source": [
    "확인 결과 `.json`의 `polyline`에 `None`이 들어가 있음. 따라서 불러오는 단계에서 `None` 좌표 값을 해결해야 함"
   ]
  },
  {
   "cell_type": "markdown",
   "metadata": {},
   "source": [
    "# None Type 해결 로직 생성"
   ]
  },
  {
   "cell_type": "code",
   "execution_count": 7,
   "metadata": {},
   "outputs": [
    {
     "data": {
      "text/plain": [
       "array([[247, 713],\n",
       "       [245, 696],\n",
       "       [258, 680],\n",
       "       [282, 666],\n",
       "       [274, 655],\n",
       "       [271, 637],\n",
       "       [270, 627],\n",
       "       [287, 606],\n",
       "       [270, 595],\n",
       "       [277, 589],\n",
       "       [265, 570],\n",
       "       [270, 563],\n",
       "       [268, 549],\n",
       "       [287, 541],\n",
       "       [298, 531],\n",
       "       [304, 528],\n",
       "       [293, 520],\n",
       "       [291, 515]])"
      ]
     },
     "execution_count": 7,
     "metadata": {},
     "output_type": "execute_result"
    }
   ],
   "source": [
    "def remove_none(lst):\n",
    "    if -1 in lst:\n",
    "        print(lst.remove(-1))\n",
    "        return remove_none(lst.remove(-1))\n",
    "    else:\n",
    "        return lst\n",
    "\n",
    "\n",
    "\n",
    "t = json_data[\"annotations\"][0][\"polyline\"]\n",
    "tmp = [[x for x in t[0] if x is not None]]\n",
    "temp = np.array(tmp).reshape(-1)\n",
    "temp_round = np.apply_along_axis(np.round , arr=temp, axis=0)\n",
    "temp_int = np.apply_along_axis(np.int32 , arr=temp_round, axis=0)\n",
    "temp_re = temp_int.reshape(-1, 2)\n",
    "temp_re"
   ]
  }
 ],
 "metadata": {
  "interpreter": {
   "hash": "0446615344e4aa1473341d598d724cf1b585df313970ff46e1fcfce00a5ccfcf"
  },
  "kernelspec": {
   "display_name": "Python 3.8.8 64-bit ('dl_env': conda)",
   "language": "python",
   "name": "python3"
  },
  "language_info": {
   "codemirror_mode": {
    "name": "ipython",
    "version": 3
   },
   "file_extension": ".py",
   "mimetype": "text/x-python",
   "name": "python",
   "nbconvert_exporter": "python",
   "pygments_lexer": "ipython3",
   "version": "3.8.8"
  },
  "orig_nbformat": 4
 },
 "nbformat": 4,
 "nbformat_minor": 2
}
