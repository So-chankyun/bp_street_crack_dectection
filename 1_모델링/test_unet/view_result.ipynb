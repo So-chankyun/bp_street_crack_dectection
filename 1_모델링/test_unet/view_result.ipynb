{
 "cells": [
  {
   "cell_type": "code",
   "execution_count": 4,
   "metadata": {},
   "outputs": [],
   "source": [
    "import wandb\n",
    "\n",
    "api = wandb.Api()\n",
    "run = api.run(\"/chaaaning/U-Net/runs/4hsezqws\")"
   ]
  },
  {
   "cell_type": "code",
   "execution_count": 13,
   "metadata": {},
   "outputs": [
    {
     "data": {
      "text/html": [
       "<iframe src=\"https://wandb.ai/chaaaning/U-Net/runs/4hsezqws?jupyter=true\" style=\"border:none;width:100%;height:420px;\"></iframe>"
      ],
      "text/plain": [
       "<Run chaaaning/U-Net/4hsezqws (finished)>"
      ]
     },
     "execution_count": 13,
     "metadata": {},
     "output_type": "execute_result"
    }
   ],
   "source": [
    "run"
   ]
  },
  {
   "cell_type": "code",
   "execution_count": 10,
   "metadata": {},
   "outputs": [
    {
     "data": {
      "text/plain": [
       "set()"
      ]
     },
     "execution_count": 10,
     "metadata": {},
     "output_type": "execute_result"
    }
   ],
   "source": [
    "import os\n",
    "from pathlib import Path\n",
    "\n",
    "DATAPATH = \"D:/data/도로장애물·표면 인지 영상(수도권)/Training/!CHANGE/CRACK/C_Mainroad_B01/\"\n",
    "dir_img = Path(DATAPATH.replace(\"!CHANGE\", \"Images\"))\n",
    "dir_mask = Path(DATAPATH.replace(\"!CHANGE\", \"Annotations\"))\n",
    "imgs = set(list(map(lambda x: x.replace('.png',\"\"), os.listdir(dir_img))))\n",
    "lbls = set(list(map(lambda x: x.replace('_PLINE.json',\"\"), os.listdir(dir_mask))))\n",
    "imgs-lbls\n"
   ]
  },
  {
   "cell_type": "code",
   "execution_count": 2,
   "metadata": {},
   "outputs": [
    {
     "data": {
      "text/plain": [
       "['5', '77', '20', '25', '80', '19', '34', '85', '18']"
      ]
     },
     "execution_count": 2,
     "metadata": {},
     "output_type": "execute_result"
    }
   ],
   "source": [
    "import numpy as np\n",
    "import random\n",
    "\n",
    "test = [x for x in list(map(lambda x: str(x),[i for i in range(100)]))]\n",
    "\n",
    "random.sample(test, 9)"
   ]
  }
 ],
 "metadata": {
  "interpreter": {
   "hash": "0446615344e4aa1473341d598d724cf1b585df313970ff46e1fcfce00a5ccfcf"
  },
  "kernelspec": {
   "display_name": "Python 3.8.8 64-bit ('dl_env': conda)",
   "language": "python",
   "name": "python3"
  },
  "language_info": {
   "codemirror_mode": {
    "name": "ipython",
    "version": 3
   },
   "file_extension": ".py",
   "mimetype": "text/x-python",
   "name": "python",
   "nbconvert_exporter": "python",
   "pygments_lexer": "ipython3",
   "version": "3.8.8"
  },
  "orig_nbformat": 4
 },
 "nbformat": 4,
 "nbformat_minor": 2
}
